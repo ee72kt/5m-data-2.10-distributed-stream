{
  "cells": [
    {
      "cell_type": "code",
      "execution_count": 1,
      "metadata": {
        "id": "2GseR_igvnWA"
      },
      "outputs": [],
      "source": [
        "import random\n",
        "import time\n",
        "from faker import Faker\n",
        "from faker.providers import BaseProvider\n",
        "\n",
        "# Adding a PizzaProvider with 3 methods:\n",
        "#   * pizza_name to retrieve the name of the basic pizza,\n",
        "#   * pizza_topping for additional toppings\n",
        "#   * pizza_shop to retrieve one of the shops available\n",
        "# https://github.com/Aiven-Labs/python-fake-data-producer-for-apache-kafka/tree/main\n",
        "\n",
        "\n",
        "class PizzaProvider(BaseProvider):\n",
        "    def pizza_name(self):\n",
        "        valid_pizza_names = [\n",
        "            \"Margherita\",\n",
        "            \"Marinara\",\n",
        "            \"Diavola\",\n",
        "            \"Mari & Monti\",\n",
        "            \"Salami\",\n",
        "            \"Peperoni\",\n",
        "        ]\n",
        "        return random.choice(valid_pizza_names)\n",
        "\n",
        "    def pizza_topping(self):\n",
        "        available_pizza_toppings = [\n",
        "            \"🍅 tomato\",\n",
        "            \"🧀 blue cheese\",\n",
        "            \"🥚 egg\",\n",
        "            \"🫑 green peppers\",\n",
        "            \"🌶️ hot pepper\",\n",
        "            \"🥓 bacon\",\n",
        "            \"🫒 olives\",\n",
        "            \"🧄 garlic\",\n",
        "            \"🐟 tuna\",\n",
        "            \"🧅 onion\",\n",
        "            \"🍍 pineapple\",\n",
        "            \"🍓 strawberry\",\n",
        "            \"🍌 banana\",\n",
        "        ]\n",
        "        return random.choice(available_pizza_toppings)\n",
        "\n",
        "    def pizza_shop(self):\n",
        "        pizza_shops = [\n",
        "            \"Marios Pizza\",\n",
        "            \"Luigis Pizza\",\n",
        "            \"Circular Pi Pizzeria\",\n",
        "            \"Ill Make You a Pizza You Can\" \"t Refuse\",\n",
        "            \"Mammamia Pizza\",\n",
        "            \"Its-a me! Mario Pizza!\",\n",
        "        ]\n",
        "        return random.choice(pizza_shops)\n",
        "\n",
        "    def order_cost(self):\n",
        "        return round(random.random() * 50, 2)\n",
        "\n",
        "    def produce_msg(\n",
        "        self,\n",
        "        FakerInstance,\n",
        "        ordercount=1,\n",
        "        max_pizzas_in_order=5,\n",
        "        max_toppings_in_pizza=3,\n",
        "    ):\n",
        "        shop = FakerInstance.pizza_shop()\n",
        "        # Each Order can have 1-10 pizzas in it\n",
        "        pizzas = []\n",
        "        for pizza in range(random.randint(1, max_pizzas_in_order)):\n",
        "            # Each Pizza can have 0-5 additional toppings on it\n",
        "            toppings = []\n",
        "            for topping in range(random.randint(0, max_toppings_in_pizza)):\n",
        "                toppings.append(FakerInstance.pizza_topping())\n",
        "            pizzas.append(\n",
        "                {\n",
        "                    \"pizzaName\": FakerInstance.pizza_name(),\n",
        "                    \"additionalToppings\": toppings,\n",
        "                }\n",
        "            )\n",
        "        # message composition\n",
        "        message = {\n",
        "            \"id\": ordercount,\n",
        "            \"shop\": shop,\n",
        "            \"name\": FakerInstance.unique.name(),\n",
        "            \"phoneNumber\": FakerInstance.unique.phone_number(),\n",
        "            \"address\": FakerInstance.address(),\n",
        "            \"pizzas\": pizzas,\n",
        "            \"timestamp\": int(time.time() * 1000),\n",
        "        }\n",
        "        key = {\"shop\": shop}\n",
        "        return message, key"
      ]
    },
    {
      "cell_type": "code",
      "execution_count": 2,
      "metadata": {
        "id": "ZmXPvtjQwcFy"
      },
      "outputs": [],
      "source": [
        "fake = Faker()\n",
        "fake.add_provider(PizzaProvider)\n",
        "Faker.seed(1234)"
      ]
    },
    {
      "cell_type": "code",
      "execution_count": 3,
      "metadata": {
        "id": "ONm3pPErwLPY"
      },
      "outputs": [],
      "source": [
        "# creating function to generate the pizza Order\n",
        "def produce_pizza_order (orderid = 1):\n",
        "    shop = fake.pizza_shop()\n",
        "    # Each Order can have 1-5 pizzas in it\n",
        "    pizzas = []\n",
        "    for pizza in range(random.randint(1, 5)):\n",
        "        # Each Pizza can have 0-3 additional toppings on it\n",
        "        toppings = []\n",
        "        for topping in range(random.randint(0, 3)):\n",
        "            toppings.append(fake.pizza_topping())\n",
        "        pizzas.append({\n",
        "            'pizzaName': fake.pizza_name(),\n",
        "            'additionalToppings': toppings\n",
        "        })\n",
        "    # message composition\n",
        "    message = {\n",
        "        'id': orderid,\n",
        "        'shop': shop,\n",
        "        'name': fake.unique.name(),\n",
        "        'phoneNumber': fake.unique.phone_number(),\n",
        "        'address': fake.address(),\n",
        "        'pizzas': pizzas,\n",
        "        'cost': fake.order_cost(),\n",
        "        \"timestamp\": int(time.time() * 1000),\n",
        "    }\n",
        "    key = {\"shop\": shop}\n",
        "    return message, key"
      ]
    },
    {
      "cell_type": "code",
      "execution_count": 4,
      "metadata": {
        "colab": {
          "base_uri": "https://localhost:8080/",
          "height": 462
        },
        "id": "3UqtymaSws1V",
        "outputId": "3c70c2eb-db0c-4bbe-9394-a48544f7d4f3"
      },
      "outputs": [],
      "source": [
        "import json\n",
        "from kafka import KafkaProducer\n",
        "\n",
        "producer = KafkaProducer(\n",
        "  bootstrap_servers=['localhost:9092'],\n",
        "  value_serializer=lambda v: json.dumps(v).encode('ascii'),\n",
        "  key_serializer=lambda v: json.dumps(v).encode('ascii')\n",
        ")"
      ]
    },
    {
      "cell_type": "code",
      "execution_count": 6,
      "metadata": {
        "id": "ckhvqowkwhDT"
      },
      "outputs": [
        {
          "ename": "KeyboardInterrupt",
          "evalue": "",
          "output_type": "error",
          "traceback": [
            "\u001b[0;31m---------------------------------------------------------------------------\u001b[0m",
            "\u001b[0;31mKeyboardInterrupt\u001b[0m                         Traceback (most recent call last)",
            "Cell \u001b[0;32mIn[6], line 13\u001b[0m\n\u001b[1;32m      9\u001b[0m producer\u001b[38;5;241m.\u001b[39msend(topic_name,\n\u001b[1;32m     10\u001b[0m               key\u001b[38;5;241m=\u001b[39mkey,\n\u001b[1;32m     11\u001b[0m               value\u001b[38;5;241m=\u001b[39mmessage)\n\u001b[1;32m     12\u001b[0m \u001b[38;5;66;03m# 1-2 seconds of sleep time before the next message\u001b[39;00m\n\u001b[0;32m---> 13\u001b[0m \u001b[43mtime\u001b[49m\u001b[38;5;241;43m.\u001b[39;49m\u001b[43msleep\u001b[49m\u001b[43m(\u001b[49m\u001b[43mrandom\u001b[49m\u001b[38;5;241;43m.\u001b[39;49m\u001b[43mrandint\u001b[49m\u001b[43m(\u001b[49m\u001b[38;5;241;43m1\u001b[39;49m\u001b[43m,\u001b[49m\u001b[38;5;241;43m2\u001b[39;49m\u001b[43m)\u001b[49m\u001b[43m)\u001b[49m\n\u001b[1;32m     15\u001b[0m \u001b[38;5;66;03m# Force sending of all messages\u001b[39;00m\n\u001b[1;32m     16\u001b[0m \u001b[38;5;28;01mif\u001b[39;00m (i \u001b[38;5;241m%\u001b[39m \u001b[38;5;241m100\u001b[39m) \u001b[38;5;241m==\u001b[39m \u001b[38;5;241m0\u001b[39m:\n",
            "\u001b[0;31mKeyboardInterrupt\u001b[0m: "
          ]
        }
      ],
      "source": [
        "topic_name = 'pizza-orders'\n",
        "i = 1\n",
        "\n",
        "while i <  500:\n",
        "    message, key = produce_pizza_order(i)\n",
        "\n",
        "    # print(\"Sending: {}\".format(message))\n",
        "    # sending the message to Kafka\n",
        "    producer.send(topic_name,\n",
        "                  key=key,\n",
        "                  value=message)\n",
        "    # 1-2 seconds of sleep time before the next message\n",
        "    time.sleep(random.randint(1,2))\n",
        "\n",
        "    # Force sending of all messages\n",
        "    if (i % 100) == 0:\n",
        "        producer.flush()\n",
        "    i = i+1\n",
        "\n",
        "producer.flush()"
      ]
    },
    {
      "cell_type": "code",
      "execution_count": 8,
      "metadata": {
        "id": "iCf4uqNLnLDD"
      },
      "outputs": [],
      "source": [
        "topic_name = 'pizza-orders'\n",
        "i = 1\n",
        "\n",
        "while i <  10:\n",
        "    message, key = produce_pizza_order(i)\n",
        "\n",
        "    # print(\"Sending: {}\".format(message))\n",
        "    # sending the message to Kafka\n",
        "    producer.send(topic_name,\n",
        "                  key=key,\n",
        "                  value=message)\n",
        "    # 1-2 seconds of sleep time before the next message\n",
        "    time.sleep(random.randint(1,2))\n",
        "\n",
        "    # Force sending of all messages\n",
        "    if (i % 100) == 0:\n",
        "        producer.flush()\n",
        "    i = i+1\n",
        "\n",
        "producer.flush()"
      ]
    },
    {
      "cell_type": "code",
      "execution_count": 7,
      "metadata": {
        "id": "BEdZ906fzIyQ"
      },
      "outputs": [],
      "source": [
        "from kafka import KafkaConsumer\n",
        "\n",
        "consumer = KafkaConsumer(\n",
        "  bootstrap_servers=['localhost:9092'],\n",
        "  group_id='$GROUP_NAME',\n",
        "  auto_offset_reset='earliest',\n",
        "  value_deserializer = lambda v: json.loads(v.decode('ascii')),\n",
        "  key_deserializer = lambda v: json.loads(v.decode('ascii')),\n",
        ")"
      ]
    },
    {
      "cell_type": "code",
      "execution_count": 8,
      "metadata": {
        "colab": {
          "base_uri": "https://localhost:8080/"
        },
        "id": "wNKv9616zrKL",
        "outputId": "e1de4a9a-8331-46ed-df13-db1791d73385"
      },
      "outputs": [
        {
          "data": {
            "text/plain": [
              "{'pizza-orders'}"
            ]
          },
          "execution_count": 8,
          "metadata": {},
          "output_type": "execute_result"
        }
      ],
      "source": [
        "consumer.topics()"
      ]
    },
    {
      "cell_type": "code",
      "execution_count": 9,
      "metadata": {
        "colab": {
          "base_uri": "https://localhost:8080/"
        },
        "id": "Cc88m76Hzt4B",
        "outputId": "786e2962-58ce-4f4b-832f-0967513912fe"
      },
      "outputs": [
        {
          "data": {
            "text/plain": [
              "{'pizza-orders'}"
            ]
          },
          "execution_count": 9,
          "metadata": {},
          "output_type": "execute_result"
        }
      ],
      "source": [
        "consumer.subscribe(topics=[topic_name])\n",
        "consumer.subscription()"
      ]
    },
    {
      "cell_type": "code",
      "execution_count": 10,
      "metadata": {
        "colab": {
          "base_uri": "https://localhost:8080/"
        },
        "id": "mmDUTDoqz3UW",
        "outputId": "d400b6bb-f973-4488-f5d2-4b01236dedc4"
      },
      "outputs": [
        {
          "name": "stdout",
          "output_type": "stream",
          "text": [
            "0:0: k={'shop': 'Marios Pizza'} v={'id': 1, 'shop': 'Marios Pizza', 'name': 'Jessica Smith', 'phoneNumber': '001-701-915-3000', 'address': '21087 Calvin Plains\\nJonesland, NY 76392', 'pizzas': [{'pizzaName': 'Marinara', 'additionalToppings': ['🥚 egg', '🍍 pineapple']}, {'pizzaName': 'Margherita', 'additionalToppings': []}], 'cost': 35.65, 'timestamp': 1742305285331}\n",
            "0:1: k={'shop': 'Marios Pizza'} v={'id': 2, 'shop': 'Marios Pizza', 'name': 'Roger Brown', 'phoneNumber': '475-943-3780x8105', 'address': '19721 Drew Key\\nNew Donaldport, NH 05690', 'pizzas': [{'pizzaName': 'Marinara', 'additionalToppings': ['🌶️ hot pepper']}, {'pizzaName': 'Salami', 'additionalToppings': ['🐟 tuna', '🫑 green peppers']}, {'pizzaName': 'Salami', 'additionalToppings': ['🌶️ hot pepper']}, {'pizzaName': 'Margherita', 'additionalToppings': ['🐟 tuna', '🧀 blue cheese']}], 'cost': 47.92, 'timestamp': 1742305287337}\n",
            "0:2: k={'shop': 'Luigis Pizza'} v={'id': 3, 'shop': 'Luigis Pizza', 'name': 'Matthew Williams', 'phoneNumber': '924-927-0965x759', 'address': '278 Phillips Crossing Apt. 661\\nPort Maryfurt, GU 86535', 'pizzas': [{'pizzaName': 'Margherita', 'additionalToppings': ['🍅 tomato']}, {'pizzaName': 'Peperoni', 'additionalToppings': ['🧀 blue cheese', '🫒 olives']}], 'cost': 23.34, 'timestamp': 1742305288346}\n",
            "0:3: k={'shop': 'Ill Make You a Pizza You Cant Refuse'} v={'id': 4, 'shop': 'Ill Make You a Pizza You Cant Refuse', 'name': 'Corey Rodriguez', 'phoneNumber': '001-629-242-5711x630', 'address': '547 Brenda Walks\\nLake Ronaldborough, CT 52490', 'pizzas': [{'pizzaName': 'Margherita', 'additionalToppings': ['🫒 olives']}, {'pizzaName': 'Diavola', 'additionalToppings': ['🐟 tuna', '🍍 pineapple']}, {'pizzaName': 'Diavola', 'additionalToppings': []}, {'pizzaName': 'Margherita', 'additionalToppings': []}, {'pizzaName': 'Mari & Monti', 'additionalToppings': []}], 'cost': 26.65, 'timestamp': 1742305290354}\n",
            "0:4: k={'shop': 'Luigis Pizza'} v={'id': 5, 'shop': 'Luigis Pizza', 'name': 'Stephen Stevens', 'phoneNumber': '253.786.2934', 'address': '752 Brandon Expressway Apt. 815\\nNorth Elizabeth, AR 84161', 'pizzas': [{'pizzaName': 'Marinara', 'additionalToppings': ['🐟 tuna']}, {'pizzaName': 'Peperoni', 'additionalToppings': []}], 'cost': 9.08, 'timestamp': 1742305292360}\n",
            "0:5: k={'shop': 'Its-a me! Mario Pizza!'} v={'id': 6, 'shop': 'Its-a me! Mario Pizza!', 'name': 'Ricky Sexton', 'phoneNumber': '8667536484', 'address': '144 Ross Port\\nAliciafurt, KY 28535', 'pizzas': [{'pizzaName': 'Peperoni', 'additionalToppings': ['🍍 pineapple', '🥚 egg', '🧀 blue cheese']}, {'pizzaName': 'Mari & Monti', 'additionalToppings': ['🧄 garlic', '🧄 garlic']}], 'cost': 8.11, 'timestamp': 1742305293369}\n",
            "0:6: k={'shop': 'Ill Make You a Pizza You Cant Refuse'} v={'id': 7, 'shop': 'Ill Make You a Pizza You Cant Refuse', 'name': 'Russell Sanders', 'phoneNumber': '(873)972-6401x764', 'address': '49595 Gary Port Suite 707\\nNorth Michaelfort, CA 18853', 'pizzas': [{'pizzaName': 'Diavola', 'additionalToppings': []}], 'cost': 28.16, 'timestamp': 1742305294373}\n",
            "0:7: k={'shop': 'Circular Pi Pizzeria'} v={'id': 8, 'shop': 'Circular Pi Pizzeria', 'name': 'Stephanie Rivera', 'phoneNumber': '(544)795-9493x841', 'address': '4189 Madison Glens Suite 206\\nLake Vickiborough, TN 20792', 'pizzas': [{'pizzaName': 'Diavola', 'additionalToppings': ['🌶️ hot pepper', '🫑 green peppers', '🫒 olives']}, {'pizzaName': 'Margherita', 'additionalToppings': []}, {'pizzaName': 'Diavola', 'additionalToppings': ['🌶️ hot pepper', '🧄 garlic', '🫑 green peppers']}], 'cost': 29.63, 'timestamp': 1742305295380}\n",
            "0:8: k={'shop': 'Ill Make You a Pizza You Cant Refuse'} v={'id': 9, 'shop': 'Ill Make You a Pizza You Cant Refuse', 'name': 'Kelli Hamilton DDS', 'phoneNumber': '244-779-3581', 'address': '77289 Dustin Villages\\nLake Frank, NY 99386', 'pizzas': [{'pizzaName': 'Mari & Monti', 'additionalToppings': []}, {'pizzaName': 'Diavola', 'additionalToppings': []}], 'cost': 13.86, 'timestamp': 1742305296390}\n",
            "0:9: k={'shop': 'Luigis Pizza'} v={'id': 10, 'shop': 'Luigis Pizza', 'name': 'Patricia Castaneda', 'phoneNumber': '328-798-9970x51560', 'address': '8697 Anthony Valley\\nPort Kellymouth, FL 64221', 'pizzas': [{'pizzaName': 'Salami', 'additionalToppings': ['🥚 egg']}, {'pizzaName': 'Marinara', 'additionalToppings': ['🍓 strawberry', '🫑 green peppers']}, {'pizzaName': 'Mari & Monti', 'additionalToppings': ['🍓 strawberry', '🍅 tomato', '🍍 pineapple']}, {'pizzaName': 'Mari & Monti', 'additionalToppings': ['🍓 strawberry']}], 'cost': 27.78, 'timestamp': 1742305297396}\n"
          ]
        }
      ],
      "source": [
        "for ix, message in enumerate(consumer, start=1):\n",
        "    print (\"%d:%d: k=%s v=%s\" % (message.partition,\n",
        "                                 message.offset,\n",
        "                                 message.key,\n",
        "                                 message.value))\n",
        "    if ix == 10:\n",
        "        break"
      ]
    },
    {
      "cell_type": "code",
      "execution_count": 11,
      "metadata": {
        "id": "fDzIIrbjxiKq"
      },
      "outputs": [],
      "source": [
        "producer.close()\n",
        "consumer.close()"
      ]
    }
  ],
  "metadata": {
    "colab": {
      "provenance": []
    },
    "kernelspec": {
      "display_name": "kafka",
      "language": "python",
      "name": "python3"
    },
    "language_info": {
      "codemirror_mode": {
        "name": "ipython",
        "version": 3
      },
      "file_extension": ".py",
      "mimetype": "text/x-python",
      "name": "python",
      "nbconvert_exporter": "python",
      "pygments_lexer": "ipython3",
      "version": "3.10.13"
    }
  },
  "nbformat": 4,
  "nbformat_minor": 0
}
